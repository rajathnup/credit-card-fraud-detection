{
  "cells": [
    {
      "cell_type": "markdown",
      "metadata": {
        "id": "8AhM6Qx8HRzO"
      },
      "source": [
        "Import necessary libraries"
      ]
    },
    {
      "cell_type": "code",
      "execution_count": null,
      "metadata": {
        "id": "0DLidQsMzG3D"
      },
      "outputs": [],
      "source": [
        "import numpy as np\n",
        "import pandas as pd\n",
        "import matplotlib.pyplot as plt\n",
        "\n",
        "from sklearn.metrics import f1_score, accuracy_score, confusion_matrix"
      ]
    },
    {
      "cell_type": "markdown",
      "metadata": {
        "id": "E5Lte6ydHXed"
      },
      "source": [
        "Import .csv file"
      ]
    },
    {
      "cell_type": "code",
      "execution_count": null,
      "metadata": {
        "colab": {
          "base_uri": "https://localhost:8080/"
        },
        "id": "HmMtheAbk2Jd",
        "outputId": "47bbd5f8-ae6b-4414-9d67-b8b193f2621e"
      },
      "outputs": [
        {
          "output_type": "stream",
          "name": "stdout",
          "text": [
            "Mounted at /content/drive\n"
          ]
        }
      ],
      "source": [
        "from google.colab import drive\n",
        "drive.mount('/content/drive')"
      ]
    },
    {
      "cell_type": "code",
      "execution_count": null,
      "metadata": {
        "id": "JGzNKgARzUmg"
      },
      "outputs": [],
      "source": [
        "data=pd.read_csv(\"/content/drive/MyDrive/creditcard.csv\")"
      ]
    },
    {
      "cell_type": "code",
      "execution_count": null,
      "metadata": {
        "colab": {
          "base_uri": "https://localhost:8080/"
        },
        "id": "KxngptBazaaX",
        "outputId": "f8acaba4-57c3-40df-96a4-2c04e857a884"
      },
      "outputs": [
        {
          "output_type": "stream",
          "name": "stdout",
          "text": [
            "Number of Transactions are  284807\n",
            "Number of Normal Transactions are  284315\n",
            "Number of fraudulent Transactions are  492\n",
            "Percentage of fraud Transactions is  0.17\n"
          ]
        }
      ],
      "source": [
        "Total_transactions = len(data)\n",
        "normal = len(data[data.Class == 0])\n",
        "fraudulent = len(data[data.Class == 1])\n",
        "fraud_percentage = round(fraudulent/normal*100, 2)\n",
        "print('Number of Transactions are ', Total_transactions)\n",
        "print('Number of Normal Transactions are ', normal)\n",
        "print('Number of fraudulent Transactions are ',fraudulent)\n",
        "print('Percentage of fraud Transactions is ',fraud_percentage)"
      ]
    },
    {
      "cell_type": "code",
      "execution_count": null,
      "metadata": {
        "colab": {
          "base_uri": "https://localhost:8080/"
        },
        "id": "8nJ91y-wzgeH",
        "outputId": "ef6869e7-3af0-46ba-8a6c-b9683a328301"
      },
      "outputs": [
        {
          "output_type": "stream",
          "name": "stdout",
          "text": [
            "<class 'pandas.core.frame.DataFrame'>\n",
            "RangeIndex: 284807 entries, 0 to 284806\n",
            "Data columns (total 31 columns):\n",
            " #   Column  Non-Null Count   Dtype  \n",
            "---  ------  --------------   -----  \n",
            " 0   Time    284807 non-null  float64\n",
            " 1   V1      284807 non-null  float64\n",
            " 2   V2      284807 non-null  float64\n",
            " 3   V3      284807 non-null  float64\n",
            " 4   V4      284807 non-null  float64\n",
            " 5   V5      284807 non-null  float64\n",
            " 6   V6      284807 non-null  float64\n",
            " 7   V7      284807 non-null  float64\n",
            " 8   V8      284807 non-null  float64\n",
            " 9   V9      284807 non-null  float64\n",
            " 10  V10     284807 non-null  float64\n",
            " 11  V11     284807 non-null  float64\n",
            " 12  V12     284807 non-null  float64\n",
            " 13  V13     284807 non-null  float64\n",
            " 14  V14     284807 non-null  float64\n",
            " 15  V15     284807 non-null  float64\n",
            " 16  V16     284807 non-null  float64\n",
            " 17  V17     284807 non-null  float64\n",
            " 18  V18     284807 non-null  float64\n",
            " 19  V19     284807 non-null  float64\n",
            " 20  V20     284807 non-null  float64\n",
            " 21  V21     284807 non-null  float64\n",
            " 22  V22     284807 non-null  float64\n",
            " 23  V23     284807 non-null  float64\n",
            " 24  V24     284807 non-null  float64\n",
            " 25  V25     284807 non-null  float64\n",
            " 26  V26     284807 non-null  float64\n",
            " 27  V27     284807 non-null  float64\n",
            " 28  V28     284807 non-null  float64\n",
            " 29  Amount  284807 non-null  float64\n",
            " 30  Class   284807 non-null  int64  \n",
            "dtypes: float64(30), int64(1)\n",
            "memory usage: 67.4 MB\n"
          ]
        }
      ],
      "source": [
        "data.info()"
      ]
    },
    {
      "cell_type": "markdown",
      "metadata": {
        "id": "cwQF_r135S7J"
      },
      "source": [
        "Data Preprocessing"
      ]
    },
    {
      "cell_type": "code",
      "execution_count": null,
      "metadata": {
        "id": "JjSN1BO-ziag"
      },
      "outputs": [],
      "source": [
        "from sklearn.preprocessing import StandardScaler\n",
        "\n",
        "sc = StandardScaler()\n",
        "amount = data['Amount'].values\n",
        "data['Amount'] = sc.fit_transform(amount.reshape(-1, 1))"
      ]
    },
    {
      "cell_type": "code",
      "execution_count": null,
      "metadata": {
        "id": "OnnJn7jdzl9n"
      },
      "outputs": [],
      "source": [
        "data.drop(['Time'], axis=1, inplace=True)"
      ]
    },
    {
      "cell_type": "code",
      "execution_count": null,
      "metadata": {
        "id": "Uvu6MRlbzoco"
      },
      "outputs": [],
      "source": [
        "data.drop_duplicates(inplace=True)"
      ]
    },
    {
      "cell_type": "code",
      "execution_count": null,
      "metadata": {
        "id": "CKCjH5jOzsuI"
      },
      "outputs": [],
      "source": [
        "X = data.iloc[:, :-1].values\n",
        "y = data['Class'].values"
      ]
    },
    {
      "cell_type": "markdown",
      "metadata": {
        "id": "CmWbmSVjGwVr"
      },
      "source": [
        "Split Train Test Set"
      ]
    },
    {
      "cell_type": "code",
      "execution_count": null,
      "metadata": {
        "id": "1iCHQM1azy4I"
      },
      "outputs": [],
      "source": [
        "from sklearn.model_selection import train_test_split\n",
        "\n",
        "X_train, X_test, y_train, y_test = train_test_split(X, y, test_size = 0.25, random_state = 1)"
      ]
    },
    {
      "cell_type": "markdown",
      "metadata": {
        "id": "_vtDgXS_G0-9"
      },
      "source": [
        "Decision Tree Classifier "
      ]
    },
    {
      "cell_type": "code",
      "execution_count": null,
      "metadata": {
        "id": "Kq4XGkATz1ua"
      },
      "outputs": [],
      "source": [
        "from sklearn.tree import DecisionTreeClassifier, DecisionTreeRegressor\n",
        "from sklearn.tree import plot_tree\n",
        "\n",
        "DT = DecisionTreeClassifier(max_depth = 4)\n",
        "DT.fit(X_train, y_train)\n",
        "dt_pred = DT.predict(X_test)"
      ]
    },
    {
      "cell_type": "code",
      "execution_count": null,
      "metadata": {
        "colab": {
          "base_uri": "https://localhost:8080/"
        },
        "id": "BeISaLt6z4Ng",
        "outputId": "3564eb71-e89c-4dbb-f0e1-d077797d44e7"
      },
      "outputs": [
        {
          "output_type": "stream",
          "name": "stdout",
          "text": [
            "Accuracy score of the Decision Tree model is  0.9991729061466132\n"
          ]
        }
      ],
      "source": [
        "print('Accuracy score of the Decision Tree model is ',accuracy_score(y_test, dt_pred))"
      ]
    },
    {
      "cell_type": "code",
      "execution_count": null,
      "metadata": {
        "colab": {
          "base_uri": "https://localhost:8080/"
        },
        "id": "Jkqkk9niz8Fg",
        "outputId": "163724bb-22a5-49d1-fe28-44e83945137a"
      },
      "outputs": [
        {
          "output_type": "stream",
          "name": "stdout",
          "text": [
            "F1 score of the Decision Tree model is  0.7510917030567686\n"
          ]
        }
      ],
      "source": [
        "print('F1 score of the Decision Tree model is ',f1_score(y_test, dt_pred))"
      ]
    },
    {
      "cell_type": "code",
      "execution_count": null,
      "metadata": {
        "colab": {
          "base_uri": "https://localhost:8080/",
          "height": 717
        },
        "id": "4Oa4sIbFzg37",
        "outputId": "7cf860d3-aaa3-471b-963b-c75290c9b93d"
      },
      "outputs": [
        {
          "output_type": "execute_result",
          "data": {
            "text/plain": [
              "[Text(0.5288461538461539, 0.9, 'X[16] <= -2.754\\ngini = 0.003\\nsamples = 206747\\nvalue = [206402, 345]'),\n",
              " Text(0.3076923076923077, 0.7, 'X[9] <= -2.129\\ngini = 0.343\\nsamples = 309\\nvalue = [68, 241]'),\n",
              " Text(0.15384615384615385, 0.5, 'X[25] <= -0.224\\ngini = 0.25\\nsamples = 273\\nvalue = [40, 233]'),\n",
              " Text(0.07692307692307693, 0.3, 'X[26] <= 1.201\\ngini = 0.447\\nsamples = 80\\nvalue = [27, 53]'),\n",
              " Text(0.038461538461538464, 0.1, 'gini = 0.262\\nsamples = 58\\nvalue = [9, 49]'),\n",
              " Text(0.11538461538461539, 0.1, 'gini = 0.298\\nsamples = 22\\nvalue = [18, 4]'),\n",
              " Text(0.23076923076923078, 0.3, 'X[3] <= 1.166\\ngini = 0.126\\nsamples = 193\\nvalue = [13, 180]'),\n",
              " Text(0.19230769230769232, 0.1, 'gini = 0.496\\nsamples = 11\\nvalue = [6, 5]'),\n",
              " Text(0.2692307692307692, 0.1, 'gini = 0.074\\nsamples = 182\\nvalue = [7, 175]'),\n",
              " Text(0.46153846153846156, 0.5, 'X[17] <= -1.673\\ngini = 0.346\\nsamples = 36\\nvalue = [28, 8]'),\n",
              " Text(0.38461538461538464, 0.3, 'X[21] <= 0.586\\ngini = 0.463\\nsamples = 11\\nvalue = [4, 7]'),\n",
              " Text(0.34615384615384615, 0.1, 'gini = 0.219\\nsamples = 8\\nvalue = [1, 7]'),\n",
              " Text(0.4230769230769231, 0.1, 'gini = 0.0\\nsamples = 3\\nvalue = [3, 0]'),\n",
              " Text(0.5384615384615384, 0.3, 'X[10] <= 4.395\\ngini = 0.077\\nsamples = 25\\nvalue = [24, 1]'),\n",
              " Text(0.5, 0.1, 'gini = 0.0\\nsamples = 24\\nvalue = [24, 0]'),\n",
              " Text(0.5769230769230769, 0.1, 'gini = 0.0\\nsamples = 1\\nvalue = [0, 1]'),\n",
              " Text(0.75, 0.7, 'X[13] <= -8.098\\ngini = 0.001\\nsamples = 206438\\nvalue = [206334, 104]'),\n",
              " Text(0.6538461538461539, 0.5, 'X[2] <= -3.156\\ngini = 0.219\\nsamples = 24\\nvalue = [3, 21]'),\n",
              " Text(0.6153846153846154, 0.3, 'gini = 0.0\\nsamples = 21\\nvalue = [0, 21]'),\n",
              " Text(0.6923076923076923, 0.3, 'gini = 0.0\\nsamples = 3\\nvalue = [3, 0]'),\n",
              " Text(0.8461538461538461, 0.5, 'X[13] <= -4.861\\ngini = 0.001\\nsamples = 206414\\nvalue = [206331, 83]'),\n",
              " Text(0.7692307692307693, 0.3, 'X[9] <= -1.847\\ngini = 0.307\\nsamples = 132\\nvalue = [107, 25]'),\n",
              " Text(0.7307692307692307, 0.1, 'gini = 0.415\\nsamples = 34\\nvalue = [10, 24]'),\n",
              " Text(0.8076923076923077, 0.1, 'gini = 0.02\\nsamples = 98\\nvalue = [97, 1]'),\n",
              " Text(0.9230769230769231, 0.3, 'X[11] <= -4.927\\ngini = 0.001\\nsamples = 206282\\nvalue = [206224, 58]'),\n",
              " Text(0.8846153846153846, 0.1, 'gini = 0.5\\nsamples = 2\\nvalue = [1, 1]'),\n",
              " Text(0.9615384615384616, 0.1, 'gini = 0.001\\nsamples = 206280\\nvalue = [206223, 57]')]"
            ]
          },
          "metadata": {},
          "execution_count": 14
        },
        {
          "output_type": "display_data",
          "data": {
            "image/png": "[encoded data removed]",
            "text/plain": [
              "<Figure size 432x288 with 1 Axes>"
            ]
          },
          "metadata": {
            "needs_background": "light"
          }
        }
      ],
      "source": [
        "plot_tree(DT)"
      ]
    },
    {
      "cell_type": "code",
      "execution_count": null,
      "metadata": {
        "colab": {
          "base_uri": "https://localhost:8080/"
        },
        "id": "JSYQ2Rizz-FI",
        "outputId": "8dcf80c8-85cf-41e6-d521-4279d9397cc3"
      },
      "outputs": [
        {
          "output_type": "execute_result",
          "data": {
            "text/plain": [
              "array([[68773,    15],\n",
              "       [   42,    86]])"
            ]
          },
          "metadata": {},
          "execution_count": 15
        }
      ],
      "source": [
        "confusion_matrix(y_test, dt_pred)"
      ]
    },
    {
      "cell_type": "markdown",
      "metadata": {
        "id": "fCcxKNqoG-lV"
      },
      "source": [
        "Logistic Regression"
      ]
    },
    {
      "cell_type": "code",
      "execution_count": null,
      "metadata": {
        "id": "0TK_Eb2J0RJ4"
      },
      "outputs": [],
      "source": [
        "from sklearn.linear_model import LogisticRegression\n",
        "\n",
        "lr = LogisticRegression()\n",
        "lr.fit(X_train, y_train)\n",
        "lr_pred = lr.predict(X_test)"
      ]
    },
    {
      "cell_type": "code",
      "execution_count": null,
      "metadata": {
        "colab": {
          "base_uri": "https://localhost:8080/"
        },
        "id": "5fRTF3Ut0Tn3",
        "outputId": "e0754b2f-d88a-47d3-ef3f-3519493e71bf"
      },
      "outputs": [
        {
          "output_type": "stream",
          "name": "stdout",
          "text": [
            "Accuracy score of the Logistic Regression model is  0.9989552498694062\n"
          ]
        }
      ],
      "source": [
        "print('Accuracy score of the Logistic Regression model is ', accuracy_score(y_test, lr_pred))"
      ]
    },
    {
      "cell_type": "code",
      "execution_count": null,
      "metadata": {
        "colab": {
          "base_uri": "https://localhost:8080/"
        },
        "id": "q-Gp099t0WJv",
        "outputId": "0b588c04-0659-4b32-cd99-502e77532a1b"
      },
      "outputs": [
        {
          "output_type": "stream",
          "name": "stdout",
          "text": [
            "F1 score of the Logistic Regression model is  0.6666666666666666\n"
          ]
        }
      ],
      "source": [
        "print('F1 score of the Logistic Regression model is ',f1_score(y_test, lr_pred))"
      ]
    },
    {
      "cell_type": "markdown",
      "metadata": {
        "id": "kxd1nkD3HA3B"
      },
      "source": [
        "Random Foresst Classifier"
      ]
    },
    {
      "cell_type": "code",
      "execution_count": null,
      "metadata": {
        "id": "AYI3tPYx0g-n"
      },
      "outputs": [],
      "source": [
        "from sklearn.ensemble import RandomForestClassifier,RandomForestRegressor\n",
        "\n",
        "rf = RandomForestClassifier(max_depth = 4)\n",
        "rf.fit(X_train, y_train)\n",
        "rf_pred = rf.predict(X_test)"
      ]
    },
    {
      "cell_type": "code",
      "execution_count": null,
      "metadata": {
        "colab": {
          "base_uri": "https://localhost:8080/"
        },
        "id": "M_0qIw880i_v",
        "outputId": "58b5ee33-2be2-4fc3-a13d-7635147c4641"
      },
      "outputs": [
        {
          "output_type": "stream",
          "name": "stdout",
          "text": [
            "Accuracy score of the Random Forest model is  0.9991293748911718\n"
          ]
        }
      ],
      "source": [
        "print('Accuracy score of the Random Forest model is ',accuracy_score(y_test, rf_pred))"
      ]
    },
    {
      "cell_type": "code",
      "execution_count": null,
      "metadata": {
        "colab": {
          "base_uri": "https://localhost:8080/"
        },
        "id": "z6QwHW3i0lOX",
        "outputId": "37b7e225-5e22-40a5-84dc-224d0b088bb5"
      },
      "outputs": [
        {
          "output_type": "stream",
          "name": "stdout",
          "text": [
            "F1 score of the Random Forest model is  0.7222222222222223\n"
          ]
        }
      ],
      "source": [
        "print('F1 score of the Random Forest model is ',f1_score(y_test, rf_pred))"
      ]
    },
    {
      "cell_type": "markdown",
      "metadata": {
        "id": "4z3moR_SHHhx"
      },
      "source": [
        "Support Vector Classifier"
      ]
    },
    {
      "cell_type": "code",
      "execution_count": null,
      "metadata": {
        "id": "G09XRMJC0nRP"
      },
      "outputs": [],
      "source": [
        "from sklearn.svm import SVC\n",
        "\n",
        "svm = SVC()\n",
        "svm.fit(X_train, y_train)\n",
        "svm_pred = svm.predict(X_test)"
      ]
    },
    {
      "cell_type": "code",
      "execution_count": null,
      "metadata": {
        "id": "2D_2LW910p43",
        "colab": {
          "base_uri": "https://localhost:8080/"
        },
        "outputId": "e7ce59a1-e49f-4f80-fc49-e58e47eac239"
      },
      "outputs": [
        {
          "output_type": "stream",
          "name": "stdout",
          "text": [
            "Accuracy score of the Support Vector Machines model is  0.999318010331418\n"
          ]
        }
      ],
      "source": [
        "print('Accuracy score of the Support Vector Machines model is ', accuracy_score(y_test, svm_pred))"
      ]
    },
    {
      "cell_type": "code",
      "execution_count": null,
      "metadata": {
        "id": "rbYhSqDv0r-y",
        "colab": {
          "base_uri": "https://localhost:8080/"
        },
        "outputId": "6cbe734e-8d5b-4e26-fd1f-4c6090ad4c47"
      },
      "outputs": [
        {
          "output_type": "stream",
          "name": "stdout",
          "text": [
            "F1 score of the Support Vector Machines model is  0.7813953488372093\n"
          ]
        }
      ],
      "source": [
        "print('F1 score of the Support Vector Machines model is ', f1_score(y_test, svm_pred))"
      ]
    },
    {
      "cell_type": "markdown",
      "metadata": {
        "id": "tAxykpPPHLYR"
      },
      "source": [
        "K - Neighbours Classifier"
      ]
    },
    {
      "cell_type": "code",
      "execution_count": null,
      "metadata": {
        "id": "2F7EJs6_AClH",
        "colab": {
          "base_uri": "https://localhost:8080/",
          "height": 316
        },
        "outputId": "d8de96bd-da23-4adb-9a90-01097c351290"
      },
      "outputs": [
        {
          "output_type": "display_data",
          "data": {
            "image/png": "[encoded data removed]",
            "text/plain": [
              "<Figure size 432x288 with 1 Axes>"
            ]
          },
          "metadata": {
            "needs_background": "light"
          }
        },
        {
          "output_type": "stream",
          "name": "stdout",
          "text": [
            "{1: 0.9993760520053399, 2: 0.9993470311683789, 3: 0.9994486040977422, 4: 0.9993905624238203, 5: 0.9993325207498984, 6: 0.9993325207498984, 7: 0.999288989494457, 8: 0.9992599686574961, 9: 0.9992744790759766, 10: 0.9992599686574961}\n"
          ]
        }
      ],
      "source": [
        "from sklearn.neighbors import KNeighborsClassifier\n",
        "\n",
        "k_range = range(1,11)\n",
        "scores={}\n",
        "scores_list=[]\n",
        "for k in k_range:\n",
        "  knn = KNeighborsClassifier(n_neighbors = k)\n",
        "  knn.fit(X_train, y_train)\n",
        "  knn_pred = knn.predict(X_test)  \n",
        "  scores[k]=accuracy_score(y_test, knn_pred)\n",
        "  scores_list.append(accuracy_score(y_test, knn_pred))\n",
        "\n",
        "plt.plot(k_range,scores_list)\n",
        "plt.xlabel(\"K value for knn\")\n",
        "plt.ylabel(\"Testing accuracy\")\n",
        "plt.show()\n",
        "print(scores)\n",
        "\n"
      ]
    },
    {
      "cell_type": "code",
      "execution_count": null,
      "metadata": {
        "id": "ub4Fw04l0vd1"
      },
      "outputs": [],
      "source": [
        "from sklearn.neighbors import KNeighborsClassifier\n",
        "n = 8\n",
        "KNN = KNeighborsClassifier(n_neighbors = n)\n",
        "KNN.fit(X_train, y_train)\n",
        "knn_pred = KNN.predict(X_test)"
      ]
    },
    {
      "cell_type": "code",
      "execution_count": null,
      "metadata": {
        "id": "FciIpLzw0xR4",
        "colab": {
          "base_uri": "https://localhost:8080/"
        },
        "outputId": "c4873401-c572-48af-822b-166f919b17ad"
      },
      "outputs": [
        {
          "output_type": "stream",
          "name": "stdout",
          "text": [
            "Accuracy score of the K-Nearest Neighbors model is  0.9992599686574961\n"
          ]
        }
      ],
      "source": [
        "print('Accuracy score of the K-Nearest Neighbors model is ',accuracy_score(y_test, knn_pred))"
      ]
    },
    {
      "cell_type": "code",
      "execution_count": null,
      "metadata": {
        "id": "84nFCip40y9y",
        "colab": {
          "base_uri": "https://localhost:8080/"
        },
        "outputId": "40452414-a8de-427f-e2fb-3360c289a05e"
      },
      "outputs": [
        {
          "output_type": "stream",
          "name": "stdout",
          "text": [
            "F1 score of the K-Nearest Neighbors model is  0.7848101265822784\n"
          ]
        }
      ],
      "source": [
        "print('F1 score of the K-Nearest Neighbors model is ', f1_score(y_test, knn_pred))"
      ]
    }
  ],
  "metadata": {
    "colab": {
      "collapsed_sections": [],
      "name": "ml_creditcardfraud.ipynb",
      "provenance": []
    },
    "kernelspec": {
      "display_name": "Python 3",
      "name": "python3"
    },
    "language_info": {
      "name": "python"
    }
  },
  "nbformat": 4,
  "nbformat_minor": 0
}